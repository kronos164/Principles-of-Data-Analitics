{
 "cells": [
  {
   "cell_type": "markdown",
   "metadata": {},
   "source": [
    "# Types\n",
    "\n",
    "***\n",
    "\n",
    "All types of variables"
   ]
  },
  {
   "cell_type": "markdown",
   "metadata": {},
   "source": [
    "### Integers"
   ]
  },
  {
   "cell_type": "code",
   "execution_count": 22,
   "metadata": {},
   "outputs": [
    {
     "name": "stdout",
     "output_type": "stream",
     "text": [
      "<class 'int'>\n",
      "<class 'int'>\n",
      "<class 'int'>\n",
      "31 100 2024\n"
     ]
    }
   ],
   "source": [
    "age = 31\n",
    "score = 100\n",
    "year = 2024\n",
    "print(type(age))\n",
    "print(type(score))\n",
    "print(type(year))\n",
    "print(age, score, year)"
   ]
  },
  {
   "cell_type": "markdown",
   "metadata": {},
   "source": [
    "*Binary*\n",
    "\n",
    "[0,1]\n",
    "\n",
    "0 - 0\n",
    "1 - 1\n",
    "2 - 10\n",
    "3 - 11\n",
    "4 - 100\n",
    "5 - 101\n",
    "6 - 110\n",
    "7 - 111\n",
    "8 - 1000\n",
    "9 - 1001\n",
    "\n",
    "$1011 = (1x2^3)+(0x2^2)+(1x2^1)+(1x2^0)=11$ "
   ]
  },
  {
   "cell_type": "markdown",
   "metadata": {},
   "source": [
    "### Float"
   ]
  },
  {
   "cell_type": "code",
   "execution_count": 23,
   "metadata": {},
   "outputs": [
    {
     "name": "stdout",
     "output_type": "stream",
     "text": [
      "<class 'float'>\n",
      "<class 'float'>\n",
      "<class 'float'>\n",
      "36.5 2.5e+16 3.99\n"
     ]
    }
   ],
   "source": [
    "weight = 36.5\n",
    "big_number = 2.5e16\n",
    "price = 3.99\n",
    "print(type(weight))\n",
    "print(type(big_number))\n",
    "print(type(price))\n",
    "print(weight, big_number, price)"
   ]
  },
  {
   "cell_type": "markdown",
   "metadata": {},
   "source": [
    "### Strings"
   ]
  },
  {
   "cell_type": "code",
   "execution_count": 24,
   "metadata": {},
   "outputs": [
    {
     "name": "stdout",
     "output_type": "stream",
     "text": [
      "<class 'str'>\n",
      "<class 'str'>\n",
      "<class 'str'>\n",
      "blue Sunnydale Elementary Fluffy\n"
     ]
    }
   ],
   "source": [
    "favorite_color = \"blue\"\n",
    "school_name = \"Sunnydale Elementary\"\n",
    "pet_name = \"Fluffy\"\n",
    "print(type(favorite_color))\n",
    "print(type(school_name))\n",
    "print(type(pet_name))\n",
    "print(favorite_color, school_name, pet_name)"
   ]
  },
  {
   "cell_type": "markdown",
   "metadata": {},
   "source": [
    "### Booleans"
   ]
  },
  {
   "cell_type": "code",
   "execution_count": 25,
   "metadata": {},
   "outputs": [
    {
     "name": "stdout",
     "output_type": "stream",
     "text": [
      "<class 'bool'>\n",
      "<class 'bool'>\n",
      "No need for an umbrella\n",
      "Congratulations!\n"
     ]
    }
   ],
   "source": [
    "is_raining = False\n",
    "test_passed = True\n",
    "print(type(is_raining))\n",
    "print(type(test_passed))\n",
    "if is_raining:\n",
    "    print(\"Bring an umbrella\")\n",
    "else:    \n",
    "    print(\"No need for an umbrella\")\n",
    "if test_passed:\n",
    "    print(\"Congratulations!\")\n",
    "else:\n",
    "    print(\"Better luck next time\")"
   ]
  },
  {
   "cell_type": "markdown",
   "metadata": {},
   "source": [
    "## Example with the types of variables shown before\n",
    "\n",
    "***\n",
    "\n",
    "Weight converter from metrics to imperial"
   ]
  },
  {
   "cell_type": "code",
   "execution_count": 26,
   "metadata": {},
   "outputs": [
    {
     "name": "stdout",
     "output_type": "stream",
     "text": [
      "165\n",
      "What unit of measurement are you using? \n",
      "m\n",
      "You are 5'5'' tall\n"
     ]
    }
   ],
   "source": [
    "import math\n",
    "\n",
    "def weight_converter():\n",
    "\n",
    "    height = input(\"What is your height? \")\n",
    "    print(height)\n",
    "    print(\"What unit of measurement are you using? \")\n",
    "    unit = input(\"Metric or Imperial? \")\n",
    "    print(unit)\n",
    "    def metric_imperial(height):\n",
    "        try:\n",
    "            feet = math.floor(float(height) / 30.48)\n",
    "            inches = round(float(height) % 30.48 / 2.54)\n",
    "            if inches == 12:\n",
    "                print(f\"You are {feet + 1}'{0}'' tall\")\n",
    "            else:\n",
    "                print(f\"You are {feet}'{inches}'' tall\")\n",
    "        except:\n",
    "            print(\"Invalid height. Use only numbers for the height.\")\n",
    "    def imperial_metric(height):\n",
    "        feet = int(height[0])\n",
    "        try:\n",
    "            inches = str(height[2]) + str(height[3])\n",
    "            height = (int(inches) * 2.54) + (int(feet) * 30.48)\n",
    "            print(f\"You are {height} tall\")\n",
    "        except:\n",
    "            inches = str(height[2])\n",
    "            height = (int(inches) * 2.54) + (int(feet) * 30.48)\n",
    "            print(f\"You are {height} tall\")\n",
    "    if unit.upper()[0] == \"M\" or unit.upper()[0] == \"C\":\n",
    "        metric_imperial(height)\n",
    "    else:\n",
    "        imperial_metric(height)\n",
    "\n",
    "weight_converter()"
   ]
  },
  {
   "cell_type": "markdown",
   "metadata": {},
   "source": [
    "## Numpy\n",
    "\n",
    "***\n"
   ]
  },
  {
   "cell_type": "code",
   "execution_count": 27,
   "metadata": {},
   "outputs": [],
   "source": [
    "import numpy as np"
   ]
  },
  {
   "cell_type": "code",
   "execution_count": 28,
   "metadata": {},
   "outputs": [],
   "source": [
    "L = np.array([[1, 2, 3], [4, 5, 6], [7, 8, 9]], dtype=float)"
   ]
  },
  {
   "cell_type": "code",
   "execution_count": 29,
   "metadata": {},
   "outputs": [
    {
     "name": "stdout",
     "output_type": "stream",
     "text": [
      "[[1. 2. 3.]\n",
      " [4. 5. 6.]\n",
      " [7. 8. 9.]]\n"
     ]
    }
   ],
   "source": [
    "print(L)"
   ]
  },
  {
   "cell_type": "code",
   "execution_count": 30,
   "metadata": {},
   "outputs": [],
   "source": [
    "# Roll a die.\n",
    "\n",
    "rolls = np.random.randint(1, 7, 1000)"
   ]
  },
  {
   "cell_type": "code",
   "execution_count": 31,
   "metadata": {},
   "outputs": [
    {
     "name": "stdout",
     "output_type": "stream",
     "text": [
      "3.462\n"
     ]
    }
   ],
   "source": [
    "# Average roll.\n",
    "\n",
    "average_rolls = np.mean(rolls)\n",
    "print(average_rolls)"
   ]
  },
  {
   "cell_type": "code",
   "execution_count": 32,
   "metadata": {},
   "outputs": [
    {
     "name": "stdout",
     "output_type": "stream",
     "text": [
      "1.6812364497595216\n"
     ]
    }
   ],
   "source": [
    "# Standard deviation of the rolls.\n",
    "\n",
    "std_rolls = np.std(rolls)\n",
    "print(std_rolls)"
   ]
  },
  {
   "cell_type": "code",
   "execution_count": 33,
   "metadata": {},
   "outputs": [
    {
     "name": "stdout",
     "output_type": "stream",
     "text": [
      "2.74 3.0\n"
     ]
    }
   ],
   "source": [
    "# Likert scale.\n",
    "\n",
    "likert = np.random.randint(0, 7, 100)\n",
    "average_likert = np.mean(likert)\n",
    "median_likert = np.median(likert)\n",
    "print(average_likert, median_likert)"
   ]
  },
  {
   "cell_type": "markdown",
   "metadata": {},
   "source": [
    "### Counts"
   ]
  },
  {
   "cell_type": "code",
   "execution_count": 34,
   "metadata": {},
   "outputs": [
    {
     "name": "stdout",
     "output_type": "stream",
     "text": [
      "[4 6 5 5 3 4 3 4 5 5]\n"
     ]
    }
   ],
   "source": [
    "# Peak at the first 10 rolls.\n",
    "\n",
    "print(rolls[:10])"
   ]
  },
  {
   "cell_type": "code",
   "execution_count": 35,
   "metadata": {},
   "outputs": [
    {
     "name": "stdout",
     "output_type": "stream",
     "text": [
      "[1 2 3 4 5 6]\n"
     ]
    }
   ],
   "source": [
    "# Unique values in the array.\n",
    "\n",
    "print(np.unique(rolls))"
   ]
  },
  {
   "cell_type": "code",
   "execution_count": 36,
   "metadata": {},
   "outputs": [
    {
     "name": "stdout",
     "output_type": "stream",
     "text": [
      "[1 2 3 4 5 6] [162 176 176 161 174 151]\n"
     ]
    }
   ],
   "source": [
    "# Counts of unique values.\n",
    "\n",
    "uni_roll, counts = np.unique(rolls, return_counts=True)\n",
    "print(uni_roll, counts)"
   ]
  },
  {
   "cell_type": "markdown",
   "metadata": {},
   "source": [
    "# Bar Chart\n",
    "\n",
    "***"
   ]
  },
  {
   "cell_type": "code",
   "execution_count": 38,
   "metadata": {},
   "outputs": [
    {
     "data": {
      "text/plain": [
       "<BarContainer object of 6 artists>"
      ]
     },
     "execution_count": 38,
     "metadata": {},
     "output_type": "execute_result"
    },
    {
     "data": {
      "image/png": "[encoded data removed]",
      "text/plain": [
       "<Figure size 640x480 with 1 Axes>"
      ]
     },
     "metadata": {},
     "output_type": "display_data"
    }
   ],
   "source": [
    "# Bar chart of the counts.\n",
    "\n",
    "import matplotlib.pyplot as plt\n",
    "\n",
    "plt.suptitle('Histogram of Die Rolls')\n",
    "plt.bar(uni_roll, counts)"
   ]
  },
  {
   "cell_type": "markdown",
   "metadata": {},
   "source": [
    "***\n",
    "\n",
    "# THE END"
   ]
  }
 ],
 "metadata": {
  "kernelspec": {
   "display_name": "base",
   "language": "python",
   "name": "python3"
  },
  "language_info": {
   "codemirror_mode": {
    "name": "ipython",
    "version": 3
   },
   "file_extension": ".py",
   "mimetype": "text/x-python",
   "name": "python",
   "nbconvert_exporter": "python",
   "pygments_lexer": "ipython3",
   "version": "undefined.undefined.undefined"
  }
 },
 "nbformat": 4,
 "nbformat_minor": 2
}

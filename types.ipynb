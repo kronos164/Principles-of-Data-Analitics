{
 "cells": [
  {
   "cell_type": "markdown",
   "metadata": {},
   "source": [
    "# Types\n",
    "\n",
    "***\n",
    "\n",
    "All types of variables"
   ]
  },
  {
   "cell_type": "markdown",
   "metadata": {},
   "source": [
    "### Integers"
   ]
  },
  {
   "cell_type": "code",
   "execution_count": 1,
   "metadata": {},
   "outputs": [
    {
     "name": "stdout",
     "output_type": "stream",
     "text": [
      "31 100 2024\n"
     ]
    }
   ],
   "source": [
    "age = 31\n",
    "score = 100\n",
    "year = 2024\n",
    "print(age, score, year)"
   ]
  },
  {
   "cell_type": "markdown",
   "metadata": {},
   "source": [
    "*Binary*\n",
    "\n",
    "[0,1]\n",
    "\n",
    "0 - 0\n",
    "1 - 1\n",
    "2 - 10\n",
    "3 - 11\n",
    "4 - 100\n",
    "5 - 101\n",
    "6 - 110\n",
    "7 - 111\n",
    "8 - 1000\n",
    "9 - 1001\n",
    "\n",
    "$1011 = (1x2^3)+(0x2^2)+(1x2^1)+(1x2^0)=11$ "
   ]
  },
  {
   "cell_type": "markdown",
   "metadata": {},
   "source": [
    "### Float"
   ]
  },
  {
   "cell_type": "code",
   "execution_count": 2,
   "metadata": {},
   "outputs": [
    {
     "name": "stdout",
     "output_type": "stream",
     "text": [
      "36.5 2 3.99\n"
     ]
    }
   ],
   "source": [
    "weight = 36.5\n",
    "quant = 2\n",
    "price = 3.99\n",
    "print(weight, quant, price)\n"
   ]
  },
  {
   "cell_type": "markdown",
   "metadata": {},
   "source": [
    "### Strings"
   ]
  },
  {
   "cell_type": "code",
   "execution_count": 4,
   "metadata": {},
   "outputs": [
    {
     "name": "stdout",
     "output_type": "stream",
     "text": [
      "blue Sunnydale Elementary Fluffy\n"
     ]
    }
   ],
   "source": [
    "favorite_color = \"blue\"\n",
    "school_name = \"Sunnydale Elementary\"\n",
    "pet_name = \"Fluffy\"\n",
    "print(favorite_color, school_name, pet_name)\n"
   ]
  },
  {
   "cell_type": "markdown",
   "metadata": {},
   "source": [
    "### Booleans"
   ]
  },
  {
   "cell_type": "code",
   "execution_count": 5,
   "metadata": {},
   "outputs": [],
   "source": [
    "is_raining = False\n",
    "test_passed = True\n"
   ]
  },
  {
   "cell_type": "markdown",
   "metadata": {},
   "source": [
    "## Example with all types of variables\n",
    "\n",
    "***\n",
    "\n",
    "Weight converter from metrics to imperial"
   ]
  },
  {
   "cell_type": "code",
   "execution_count": 3,
   "metadata": {},
   "outputs": [
    {
     "name": "stdout",
     "output_type": "stream",
     "text": [
      "What unit of measurement are you using? \n",
      "You are 5'5'' tall\n"
     ]
    }
   ],
   "source": [
    "import math\n",
    "\n",
    "def weight_converter():\n",
    "\n",
    "    height = input(\"What is your height? \")\n",
    "    print(\"What unit of measurement are you using? \")\n",
    "    unit = input(\"Metric or Imperial? \")\n",
    "    def metric_imperial(height):\n",
    "        try:\n",
    "            feet = math.floor(float(height) / 30.48)\n",
    "            inches = round(float(height) % 30.48 / 2.54)\n",
    "            if inches == 12:\n",
    "                print(f\"You are {feet + 1}'{0}'' tall\")\n",
    "            else:\n",
    "                print(f\"You are {feet}'{inches}'' tall\")\n",
    "        except:\n",
    "            print(\"Invalid height. Use only numbers for the height.\")\n",
    "    def imperial_metric(height):\n",
    "        feet = int(height[0])\n",
    "        try:\n",
    "            inches = str(height[2]) + str(height[3])\n",
    "            height = (int(inches) * 2.54) + (int(feet) * 30.48)\n",
    "            print(f\"You are {height} tall\")\n",
    "        except:\n",
    "            inches = str(height[2])\n",
    "            height = (int(inches) * 2.54) + (int(feet) * 30.48)\n",
    "            print(f\"You are {height} tall\")\n",
    "    if unit.upper()[0] == \"M\" or unit.upper()[0] == \"C\":\n",
    "        metric_imperial(height)\n",
    "    else:\n",
    "        imperial_metric(height)\n",
    "\n",
    "weight_converter()"
   ]
  }
 ],
 "metadata": {
  "kernelspec": {
   "display_name": "base",
   "language": "python",
   "name": "python3"
  },
  "language_info": {
   "codemirror_mode": {
    "name": "ipython",
    "version": 3
   },
   "file_extension": ".py",
   "mimetype": "text/x-python",
   "name": "python",
   "nbconvert_exporter": "python",
   "pygments_lexer": "ipython3",
   "version": "3.11.5"
  }
 },
 "nbformat": 4,
 "nbformat_minor": 2
}
